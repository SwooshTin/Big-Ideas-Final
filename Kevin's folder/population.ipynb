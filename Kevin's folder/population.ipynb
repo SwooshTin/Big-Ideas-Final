{
 "cells": [
  {
   "cell_type": "markdown",
   "metadata": {},
   "source": [
    "# General Plan\n",
    "The general plan for the dataset of population is to compare the different populations of each neighborhood in the allegheny county.  After finding each population, compare the different populations from greatest to least.  "
   ]
  },
  {
   "cell_type": "code",
   "execution_count": 15,
   "metadata": {},
   "outputs": [],
   "source": [
    "import pandas as pd\n",
    "import geopandas\n",
    "import numpy as np\n",
    "%matplotlib inline\n",
    "import matplotlib.pyplot as plt"
   ]
  },
  {
   "cell_type": "code",
   "execution_count": null,
   "metadata": {},
   "outputs": [],
   "source": []
  },
  {
   "cell_type": "code",
   "execution_count": 12,
   "metadata": {},
   "outputs": [],
   "source": [
    "population = pd.read_csv(\"total-population.csv\")"
   ]
  },
  {
   "cell_type": "code",
   "execution_count": 10,
   "metadata": {},
   "outputs": [
    {
     "name": "stdout",
     "output_type": "stream",
     "text": [
      "(91, 4)\n",
      "<pandas.core.groupby.generic.DataFrameGroupBy object at 0x7fc1ce353c70>\n"
     ]
    }
   ],
   "source": [
    "print(population.shape)\n",
    "populationtoneighborhood = population.groupby('Neighborhood')\n",
    "print(populationtoneighborhood)"
   ]
  },
  {
   "cell_type": "code",
   "execution_count": 21,
   "metadata": {},
   "outputs": [
    {
     "name": "stdout",
     "output_type": "stream",
     "text": [
      "<class 'pandas.core.frame.DataFrame'>\n",
      "Neighborhood              91\n",
      "Id                        91\n",
      "Estimate; Total           91\n",
      "Margin of Error; Total    91\n",
      "dtype: int64\n",
      "<class 'pandas.core.series.Series'>\n",
      "<class 'numpy.int64'>\n",
      "91\n"
     ]
    }
   ],
   "source": [
    "print(type(population))\n",
    "neighborhoodpopulation = population.count()\n",
    "print(neighborhoodpopulation)\n",
    "print(type(neighborhoodpopulation))\n",
    "print(type(neighborhoodpopulation['Neighborhood']))\n",
    "print(neighborhoodpopulation['Neighborhood'])"
   ]
  },
  {
   "cell_type": "code",
   "execution_count": 22,
   "metadata": {},
   "outputs": [
    {
     "name": "stdout",
     "output_type": "stream",
     "text": [
      "91\n"
     ]
    }
   ],
   "source": [
    "print(population['Neighborhood'].nunique())"
   ]
  },
  {
   "cell_type": "code",
   "execution_count": 25,
   "metadata": {},
   "outputs": [
    {
     "name": "stdout",
     "output_type": "stream",
     "text": [
      "['Allegheny Center' 'Allegheny West' 'Allentown' 'Arlington'\n",
      " 'Arlington Heights' 'Banksville' 'Bedford Dwellings' 'Beechview'\n",
      " 'Beltzhoover' 'Bloomfield' 'Bluff' 'Bon Air' 'Brighton Heights'\n",
      " 'Brookline' 'California-Kirkbride' 'Carrick' 'Central Business District'\n",
      " 'Central Lawrenceville' 'Central Northside' 'Central Oakland'\n",
      " 'Chartiers City' 'Chateau' 'Crafton Heights' 'Crawford-Roberts'\n",
      " 'Duquesne Heights' 'East Allegheny' 'East Carnegie' 'East Hills'\n",
      " 'East Liberty' 'Elliott' 'Esplen' 'Fairywood' 'Fineview' 'Friendship'\n",
      " 'Garfield' 'Glen Hazel' 'Greenfield' 'Hays' 'Hazelwood' 'Highland Park'\n",
      " 'Homewood North' 'Homewood South' 'Homewood West' 'Knoxville' 'Larimer'\n",
      " 'Lincoln Place' 'Lincoln-Lemington-Belmar' 'Lower Lawrenceville'\n",
      " 'Manchester' 'Marshall-Shadeland' 'Middle Hill' 'Morningside'\n",
      " 'Mount Oliver Borough' 'Mount Washington' 'Mt. Oliver' 'New Homestead'\n",
      " 'North Oakland' 'North Shore' 'Northview Heights' 'Oakwood' 'Overbrook'\n",
      " 'Perry North' 'Perry South' 'Point Breeze' 'Point Breeze North'\n",
      " 'Polish Hill' 'Regent Square' 'Ridgemont' 'Shadyside' 'Sheraden'\n",
      " 'South Oakland' 'South Shore' 'South Side Flats' 'South Side Slopes'\n",
      " 'Spring Garden' 'Spring Hill-City View' 'Squirrel Hill North'\n",
      " 'Squirrel Hill South' 'St. Clair' 'Stanton Heights' 'Strip District'\n",
      " 'Summer Hill' 'Swisshelm Park' 'Terrace Village' 'Troy Hill' 'Upper Hill'\n",
      " 'Upper Lawrenceville' 'West End' 'West Oakland' 'Westwood' 'Windgap']\n",
      "<class 'numpy.ndarray'>\n"
     ]
    }
   ],
   "source": [
    "print(population['Neighborhood'].unique())\n",
    "print(type(population['Neighborhood'].unique()))"
   ]
  },
  {
   "cell_type": "code",
   "execution_count": 119,
   "metadata": {},
   "outputs": [
    {
     "ename": "AttributeError",
     "evalue": "module 'pandas' has no attribute 'dataframe'",
     "output_type": "error",
     "traceback": [
      "\u001b[0;31m---------------------------------------------------------------------------\u001b[0m",
      "\u001b[0;31mAttributeError\u001b[0m                            Traceback (most recent call last)",
      "\u001b[0;32m<ipython-input-119-351aef66345e>\u001b[0m in \u001b[0;36m<module>\u001b[0;34m\u001b[0m\n\u001b[1;32m      1\u001b[0m \u001b[0mdata\u001b[0m \u001b[0;34m=\u001b[0m \u001b[0mpd\u001b[0m\u001b[0;34m.\u001b[0m\u001b[0mread_csv\u001b[0m\u001b[0;34m(\u001b[0m\u001b[0;34m\"total-population.csv\"\u001b[0m\u001b[0;34m)\u001b[0m\u001b[0;34m\u001b[0m\u001b[0;34m\u001b[0m\u001b[0m\n\u001b[1;32m      2\u001b[0m \u001b[0mdf\u001b[0m \u001b[0;34m=\u001b[0m \u001b[0mpd\u001b[0m\u001b[0;34m.\u001b[0m\u001b[0mDataFrame\u001b[0m\u001b[0;34m(\u001b[0m\u001b[0mdata\u001b[0m\u001b[0;34m,\u001b[0m \u001b[0mcolumns\u001b[0m\u001b[0;34m=\u001b[0m \u001b[0;34m[\u001b[0m\u001b[0;34m'Neighborhood'\u001b[0m\u001b[0;34m,\u001b[0m \u001b[0;34m'Estimate; Total'\u001b[0m\u001b[0;34m]\u001b[0m\u001b[0;34m)\u001b[0m\u001b[0;34m\u001b[0m\u001b[0;34m\u001b[0m\u001b[0m\n\u001b[0;32m----> 3\u001b[0;31m \u001b[0mneighborhood\u001b[0m \u001b[0;34m=\u001b[0m \u001b[0mpd\u001b[0m\u001b[0;34m.\u001b[0m\u001b[0mdataframe\u001b[0m\u001b[0;34m(\u001b[0m\u001b[0mdata\u001b[0m\u001b[0;34m,\u001b[0m \u001b[0mcolumn\u001b[0m \u001b[0;34m=\u001b[0m \u001b[0;34m[\u001b[0m\u001b[0;34m'Neighborhood'\u001b[0m\u001b[0;34m]\u001b[0m\u001b[0;34m)\u001b[0m\u001b[0;34m\u001b[0m\u001b[0;34m\u001b[0m\u001b[0m\n\u001b[0m",
      "\u001b[0;32m~/opt/anaconda3/lib/python3.8/site-packages/pandas/__init__.py\u001b[0m in \u001b[0;36m__getattr__\u001b[0;34m(name)\u001b[0m\n\u001b[1;32m    256\u001b[0m             \u001b[0;32mreturn\u001b[0m \u001b[0m_SparseArray\u001b[0m\u001b[0;34m\u001b[0m\u001b[0;34m\u001b[0m\u001b[0m\n\u001b[1;32m    257\u001b[0m \u001b[0;34m\u001b[0m\u001b[0m\n\u001b[0;32m--> 258\u001b[0;31m         \u001b[0;32mraise\u001b[0m \u001b[0mAttributeError\u001b[0m\u001b[0;34m(\u001b[0m\u001b[0;34mf\"module 'pandas' has no attribute '{name}'\"\u001b[0m\u001b[0;34m)\u001b[0m\u001b[0;34m\u001b[0m\u001b[0;34m\u001b[0m\u001b[0m\n\u001b[0m\u001b[1;32m    259\u001b[0m \u001b[0;34m\u001b[0m\u001b[0m\n\u001b[1;32m    260\u001b[0m \u001b[0;34m\u001b[0m\u001b[0m\n",
      "\u001b[0;31mAttributeError\u001b[0m: module 'pandas' has no attribute 'dataframe'"
     ]
    }
   ],
   "source": [
    "data = pd.read_csv(\"total-population.csv\")\n",
    "df = pd.DataFrame(data, columns= ['Neighborhood', 'Estimate; Total'])\n"
   ]
  },
  {
   "cell_type": "code",
   "execution_count": 70,
   "metadata": {},
   "outputs": [
    {
     "name": "stdout",
     "output_type": "stream",
     "text": [
      "                        Neighborhood\n",
      "Estimate; Total                     \n",
      "3.0                          Chateau\n",
      "12.0                     South Shore\n",
      "205.0                    North Shore\n",
      "235.0                       West End\n",
      "270.0                      St. Clair\n",
      "...                              ...\n",
      "10122.0                      Carrick\n",
      "11336.0          Squirrel Hill North\n",
      "13160.0                    Brookline\n",
      "13562.0                    Shadyside\n",
      "16042.0          Squirrel Hill South\n",
      "\n",
      "[91 rows x 1 columns]\n"
     ]
    }
   ],
   "source": [
    "groupby_max = df.groupby(['Estimate; Total']).max()\n",
    "print (str(groupby_max))"
   ]
  },
  {
   "cell_type": "code",
   "execution_count": 132,
   "metadata": {},
   "outputs": [
    {
     "name": "stdout",
     "output_type": "stream",
     "text": [
      "                        Neighborhood\n",
      "Estimate; Total                     \n",
      "6195.0            Marshall-Shadeland\n",
      "6292.0              South Side Flats\n",
      "6294.0                         Bluff\n",
      "6810.0                 Highland Park\n",
      "7421.0              Brighton Heights\n",
      "7690.0                    Greenfield\n",
      "8078.0                     Beechview\n",
      "8669.0                    Bloomfield\n",
      "8743.0              Mount Washington\n",
      "9602.0                 North Oakland\n",
      "10122.0                      Carrick\n",
      "11336.0          Squirrel Hill North\n",
      "13160.0                    Brookline\n",
      "13562.0                    Shadyside\n",
      "16042.0          Squirrel Hill South\n",
      "                      Neighborhood\n",
      "Estimate; Total                   \n",
      "3.0                        Chateau\n",
      "12.0                   South Shore\n",
      "205.0                  North Shore\n",
      "235.0                     West End\n",
      "270.0                    St. Clair\n",
      "272.0            Arlington Heights\n",
      "309.0                       Esplen\n",
      "314.0                    Ridgemont\n",
      "343.0               Allegheny West\n",
      "405.0                         Hays\n",
      "560.0               Chartiers City\n",
      "598.0                   Mt. Oliver\n",
      "610.0                East Carnegie\n",
      "716.0                   Glen Hazel\n",
      "747.0               Strip District\n"
     ]
    }
   ],
   "source": [
    "max_15 = groupby_max.tail(15)\n",
    "min_15 = groupby_max.head(15)\n",
    "print(max_15)\n",
    "print(min_15)"
   ]
  },
  {
   "cell_type": "code",
   "execution_count": 130,
   "metadata": {},
   "outputs": [
    {
     "data": {
      "image/png": "[encoded data removed]",
      "text/plain": [
       "<Figure size 432x288 with 1 Axes>"
      ]
     },
     "metadata": {
      "needs_background": "light"
     },
     "output_type": "display_data"
    }
   ],
   "source": [
    "max_neighborhood = max_15['Neighborhood'].unique()\n",
    "y_pos = np.arange(len(max_neighborhood))\n",
    "max_total = [6195.0, 6292.0, 6294.0, 6810.0, 7421.0, 7690.0, 8078.0, 8669.0, 8743.0, 9602.0, 10122.0, 11336.0, 13160.0, 13562.0, 16042.0]\n",
    "plt.barh(y_pos, max_total, align = 'center', alpha = 0.5)\n",
    "plt.yticks(y_pos, max_neighborhood)\n",
    "plt.xlabel('Population')\n",
    "plt.title('Top 15 Highest Population in Allegheny County')\n",
    "plt.show()"
   ]
  },
  {
   "cell_type": "code",
   "execution_count": 134,
   "metadata": {},
   "outputs": [
    {
     "data": {
      "image/png": "[encoded data removed]",
      "text/plain": [
       "<Figure size 432x288 with 1 Axes>"
      ]
     },
     "metadata": {
      "needs_background": "light"
     },
     "output_type": "display_data"
    }
   ],
   "source": [
    "min_neighborhood = min_15['Neighborhood'].unique()\n",
    "y_pos = np.arange(len(min_neighborhood))\n",
    "min_total = [3.0, 12.0, 205.0, 235.0, 270.0, 272.0, 309.0, 314.0, 343.0, 405.0, 560.0, 598.0, 610.0, 716.0, 747.0]\n",
    "plt.barh(y_pos, min_total, align = 'center', alpha = 0.5)\n",
    "plt.yticks(y_pos, min_neighborhood)\n",
    "plt.xlabel('Population')\n",
    "plt.title('Top 15 Lowest Populations in Allegheny County')\n",
    "plt.show()"
   ]
  },
  {
   "cell_type": "code",
   "execution_count": null,
   "metadata": {},
   "outputs": [],
   "source": []
  }
 ],
 "metadata": {
  "kernelspec": {
   "display_name": "Python 3",
   "language": "python",
   "name": "python3"
  },
  "language_info": {
   "codemirror_mode": {
    "name": "ipython",
    "version": 3
   },
   "file_extension": ".py",
   "mimetype": "text/x-python",
   "name": "python",
   "nbconvert_exporter": "python",
   "pygments_lexer": "ipython3",
   "version": "3.8.5"
  }
 },
 "nbformat": 4,
 "nbformat_minor": 4
}
