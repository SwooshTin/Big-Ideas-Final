{
 "cells": [
  {
   "cell_type": "markdown",
   "metadata": {},
   "source": [
    "# General Plan\n",
    "The general plan for the dataset of population is to compare the different populations of each neighborhood in the allegheny county.  After finding each population, compare the different populations from greatest to least.  "
   ]
  },
  {
   "cell_type": "code",
   "execution_count": 15,
   "metadata": {},
   "outputs": [],
   "source": [
    "import pandas as pd\n",
    "import geopandas\n",
    "import numpy as np\n",
    "%matplotlib inline\n",
    "import matplotlib.pyplot as plt"
   ]
  },
  {
   "cell_type": "code",
   "execution_count": null,
   "metadata": {},
   "outputs": [],
   "source": []
  },
  {
   "cell_type": "code",
   "execution_count": 12,
   "metadata": {},
   "outputs": [],
   "source": [
    "population = pd.read_csv(\"total-population.csv\")"
   ]
  },
  {
   "cell_type": "code",
   "execution_count": 10,
   "metadata": {},
   "outputs": [
    {
     "name": "stdout",
     "output_type": "stream",
     "text": [
      "(91, 4)\n",
      "<pandas.core.groupby.generic.DataFrameGroupBy object at 0x7fc1ce353c70>\n"
     ]
    }
   ],
   "source": [
    "print(population.shape)\n",
    "populationtoneighborhood = population.groupby('Neighborhood')\n",
    "print(populationtoneighborhood)"
   ]
  },
  {
   "cell_type": "code",
   "execution_count": 21,
   "metadata": {},
   "outputs": [
    {
     "name": "stdout",
     "output_type": "stream",
     "text": [
      "<class 'pandas.core.frame.DataFrame'>\n",
      "Neighborhood              91\n",
      "Id                        91\n",
      "Estimate; Total           91\n",
      "Margin of Error; Total    91\n",
      "dtype: int64\n",
      "<class 'pandas.core.series.Series'>\n",
      "<class 'numpy.int64'>\n",
      "91\n"
     ]
    }
   ],
   "source": [
    "print(type(population))\n",
    "neighborhoodpopulation = population.count()\n",
    "print(neighborhoodpopulation)\n",
    "print(type(neighborhoodpopulation))\n",
    "print(type(neighborhoodpopulation['Neighborhood']))\n",
    "print(neighborhoodpopulation['Neighborhood'])"
   ]
  },
  {
   "cell_type": "code",
   "execution_count": 22,
   "metadata": {},
   "outputs": [
    {
     "name": "stdout",
     "output_type": "stream",
     "text": [
      "91\n"
     ]
    }
   ],
   "source": [
    "print(population['Neighborhood'].nunique())"
   ]
  },
  {
   "cell_type": "code",
   "execution_count": 25,
   "metadata": {},
   "outputs": [
    {
     "name": "stdout",
     "output_type": "stream",
     "text": [
      "['Allegheny Center' 'Allegheny West' 'Allentown' 'Arlington'\n",
      " 'Arlington Heights' 'Banksville' 'Bedford Dwellings' 'Beechview'\n",
      " 'Beltzhoover' 'Bloomfield' 'Bluff' 'Bon Air' 'Brighton Heights'\n",
      " 'Brookline' 'California-Kirkbride' 'Carrick' 'Central Business District'\n",
      " 'Central Lawrenceville' 'Central Northside' 'Central Oakland'\n",
      " 'Chartiers City' 'Chateau' 'Crafton Heights' 'Crawford-Roberts'\n",
      " 'Duquesne Heights' 'East Allegheny' 'East Carnegie' 'East Hills'\n",
      " 'East Liberty' 'Elliott' 'Esplen' 'Fairywood' 'Fineview' 'Friendship'\n",
      " 'Garfield' 'Glen Hazel' 'Greenfield' 'Hays' 'Hazelwood' 'Highland Park'\n",
      " 'Homewood North' 'Homewood South' 'Homewood West' 'Knoxville' 'Larimer'\n",
      " 'Lincoln Place' 'Lincoln-Lemington-Belmar' 'Lower Lawrenceville'\n",
      " 'Manchester' 'Marshall-Shadeland' 'Middle Hill' 'Morningside'\n",
      " 'Mount Oliver Borough' 'Mount Washington' 'Mt. Oliver' 'New Homestead'\n",
      " 'North Oakland' 'North Shore' 'Northview Heights' 'Oakwood' 'Overbrook'\n",
      " 'Perry North' 'Perry South' 'Point Breeze' 'Point Breeze North'\n",
      " 'Polish Hill' 'Regent Square' 'Ridgemont' 'Shadyside' 'Sheraden'\n",
      " 'South Oakland' 'South Shore' 'South Side Flats' 'South Side Slopes'\n",
      " 'Spring Garden' 'Spring Hill-City View' 'Squirrel Hill North'\n",
      " 'Squirrel Hill South' 'St. Clair' 'Stanton Heights' 'Strip District'\n",
      " 'Summer Hill' 'Swisshelm Park' 'Terrace Village' 'Troy Hill' 'Upper Hill'\n",
      " 'Upper Lawrenceville' 'West End' 'West Oakland' 'Westwood' 'Windgap']\n",
      "<class 'numpy.ndarray'>\n"
     ]
    }
   ],
   "source": [
    "print(population['Neighborhood'].unique())\n",
    "print(type(population['Neighborhood'].unique()))"
   ]
  },
  {
   "cell_type": "code",
   "execution_count": null,
   "metadata": {},
   "outputs": [],
   "source": []
  }
 ],
 "metadata": {
  "kernelspec": {
   "display_name": "Python 3",
   "language": "python",
   "name": "python3"
  },
  "language_info": {
   "codemirror_mode": {
    "name": "ipython",
    "version": 3
   },
   "file_extension": ".py",
   "mimetype": "text/x-python",
   "name": "python",
   "nbconvert_exporter": "python",
   "pygments_lexer": "ipython3",
   "version": "3.8.5"
  }
 },
 "nbformat": 4,
 "nbformat_minor": 4
}
