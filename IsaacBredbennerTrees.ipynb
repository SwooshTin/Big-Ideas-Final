{
 "cells": [
  {
   "cell_type": "markdown",
   "id": "collective-stone",
   "metadata": {},
   "source": [
    "## ***General Plan*** ##\n",
    "1) Count the number of trees in each neighborhood\n",
    "\n",
    "2) Find the neighborhood that has the most most monetary value from trees (overall_benefits_dollar_value)\n",
    "    \n",
    "    a) May have to consider the number of categories won (a neighborhood that has the most dollar value overall but just because of one category may not be as good as one that is more diverse\n",
    "    \n",
    "3) Find the neighborhood that has the most value in lbs from trees\n",
    "\n",
    "4) Consider land use (determine later how to weight the different ones)\n",
    "\n",
    "5) Consider the condition of the trees\n",
    "\n",
    "6) Think about if there are extra utilities\n",
    "\n",
    "*Do both total value and average value*\n",
    "\n",
    "1 point for last, 2 for seconds to last, etc...\n",
    "Sum up points at the end\n",
    "Neighborhood w/ the most points wins this criteria\n",
    "\n",
    "One potential problem with this methodology is that winning a subcategory by a little bit and by a lot are weighted the same, which may be a problem or it may end up valuing neighborhoods that are good in multiple different aspects of tree life rather than just really good in one facet\n",
    "\n",
    "May have to deal with NaN winning (hopefully not)"
   ]
  },
  {
   "cell_type": "code",
   "execution_count": 1,
   "id": "executed-zimbabwe",
   "metadata": {},
   "outputs": [],
   "source": [
    "import pandas as pd\n",
    "import geopandas\n",
    "import numpy as np\n",
    "%matplotlib inline\n",
    "import matplotlib.pyplot as plt"
   ]
  },
  {
   "cell_type": "code",
   "execution_count": 2,
   "id": "incorrect-lawyer",
   "metadata": {},
   "outputs": [
    {
     "name": "stderr",
     "output_type": "stream",
     "text": [
      "C:\\Users\\isaac\\anaconda3\\envs\\cmpinf0010\\lib\\site-packages\\IPython\\core\\interactiveshell.py:3146: DtypeWarning: Columns (1) have mixed types.Specify dtype option on import or set low_memory=False.\n",
      "  has_raised = await self.run_ast_nodes(code_ast.body, cell_name,\n"
     ]
    }
   ],
   "source": [
    "trees = pd.read_csv(\"https://data.wprdc.org/datastore/dump/1515a93c-73e3-4425-9b35-1cd11b2196da\")"
   ]
  },
  {
   "cell_type": "code",
   "execution_count": 3,
   "id": "internal-theme",
   "metadata": {},
   "outputs": [
    {
     "name": "stdout",
     "output_type": "stream",
     "text": [
      "(45709, 58)\n",
      "<pandas.core.groupby.generic.DataFrameGroupBy object at 0x00000231F415D070>\n"
     ]
    }
   ],
   "source": [
    "print(trees.shape)\n",
    "treesByNeighborhood = trees.groupby('neighborhood')\n",
    "print(treesByNeighborhood)"
   ]
  },
  {
   "cell_type": "code",
   "execution_count": 4,
   "id": "incorporate-victor",
   "metadata": {},
   "outputs": [
    {
     "name": "stdout",
     "output_type": "stream",
     "text": [
      "<class 'pandas.core.frame.DataFrame'>\n",
      "id                                           45709\n",
      "address_number                               38803\n",
      "street                                       38867\n",
      "common_name                                  45606\n",
      "scientific_name                              45606\n",
      "height                                       41335\n",
      "width                                        41300\n",
      "growth_space_length                          41515\n",
      "growth_space_width                           41517\n",
      "growth_space_type                            45516\n",
      "diameter_base_height                         41380\n",
      "stems                                        45707\n",
      "overhead_utilities                           45527\n",
      "land_use                                     45265\n",
      "condition                                    39973\n",
      "stormwater_benefits_dollar_value             40044\n",
      "stormwater_benefits_runoff_elim              40044\n",
      "property_value_benefits_dollarvalue          40044\n",
      "property_value_benefits_leaf_surface_area    40044\n",
      "energy_benefits_electricity_dollar_value     40044\n",
      "energy_benefits_gas_dollar_value             40044\n",
      "air_quality_benfits_o3dep_dollar_value       40044\n",
      "air_quality_benfits_o3dep_lbs                40044\n",
      "air_quality_benfits_vocavd_dollar_value      40044\n",
      "air_quality_benfits_vocavd_lbs               40044\n",
      "air_quality_benfits_no2dep_dollar_value      40044\n",
      "air_quality_benfits_no2dep_lbs               40044\n",
      "air_quality_benfits_no2avd_dollar_value      40044\n",
      "air_quality_benfits_no2avd_lbs               40044\n",
      "air_quality_benfits_so2dep_dollar_value      40044\n",
      "air_quality_benfits_so2dep_lbs               40044\n",
      "air_quality_benfits_so2avd_dollar_value      40044\n",
      "air_quality_benfits_so2avd_lbs               40044\n",
      "air_quality_benfits_pm10depdollar_value      40044\n",
      "air_quality_benfits_pm10dep_lbs              40044\n",
      "air_quality_benfits_pm10avd_dollar_value     40044\n",
      "air_quality_benfits_pm10avd_lbs              40044\n",
      "air_quality_benfits_total_dollar_value       40044\n",
      "air_quality_benfits_total_lbs                40044\n",
      "co2_benefits_dollar_value                    40044\n",
      "co2_benefits_sequestered_lbs                 40044\n",
      "co2_benefits_sequestered_value               40044\n",
      "co2_benefits_avoided_lbs                     40044\n",
      "co2_benefits_avoided_value                   40044\n",
      "co2_benefits_decomp_lbs                      40044\n",
      "co2_benefits_maint_lbs                       40044\n",
      "co2_benefits_totalco2_lbs                    40044\n",
      "overall_benefits_dollar_value                40044\n",
      "neighborhood                                 45450\n",
      "council_district                             45446\n",
      "ward                                         45449\n",
      "tract                                        45458\n",
      "public_works_division                        45450\n",
      "pli_division                                 45449\n",
      "police_zone                                  45450\n",
      "fire_zone                                    45457\n",
      "latitude                                     45458\n",
      "longitude                                    45458\n",
      "dtype: int64\n",
      "<class 'pandas.core.series.Series'>\n",
      "<class 'numpy.int64'>\n",
      "45450\n"
     ]
    }
   ],
   "source": [
    "print(type(trees))\n",
    "neighborhood_trees = trees.count()\n",
    "print(neighborhood_trees)\n",
    "print(type(neighborhood_trees))\n",
    "print(type(neighborhood_trees['neighborhood']))\n",
    "print(neighborhood_trees['neighborhood'])"
   ]
  },
  {
   "cell_type": "code",
   "execution_count": 5,
   "id": "colonial-springfield",
   "metadata": {},
   "outputs": [
    {
     "name": "stdout",
     "output_type": "stream",
     "text": [
      "90\n"
     ]
    }
   ],
   "source": [
    "print(trees['neighborhood'].nunique())"
   ]
  },
  {
   "cell_type": "code",
   "execution_count": 6,
   "id": "immune-surgery",
   "metadata": {},
   "outputs": [
    {
     "name": "stdout",
     "output_type": "stream",
     "text": [
      "['Homewood North' 'Oakwood' 'South Side Flats' 'East Allegheny'\n",
      " 'Highland Park' 'Stanton Heights' 'Sheraden' 'Chartiers City' 'Elliott'\n",
      " 'Morningside' 'Bloomfield' 'Friendship' 'Garfield' 'Polish Hill'\n",
      " 'Lower Lawrenceville' 'Central Northside' 'East Liberty'\n",
      " 'Central Lawrenceville' 'Shadyside' 'Allegheny Center' 'Homewood South'\n",
      " 'Point Breeze North' 'East Hills' 'Homewood West' 'Greenfield'\n",
      " 'Hazelwood' 'Squirrel Hill South' 'Marshall-Shadeland' 'Brighton Heights'\n",
      " 'North Shore' 'Overbrook' 'Knoxville' 'Brookline' 'South Side Slopes'\n",
      " 'Arlington' 'Arlington Heights' 'Carrick' 'Bedford Dwellings'\n",
      " 'Central Business District' 'Bluff' 'West Oakland' 'South Oakland'\n",
      " 'Squirrel Hill North' 'Point Breeze' 'Lincoln-Lemington-Belmar' 'Bon Air'\n",
      " 'Mount Washington' 'California-Kirkbride' 'New Homestead'\n",
      " 'Central Oakland' 'Crafton Heights' 'Beechview' 'Manchester' 'Allentown'\n",
      " 'Beltzhoover' 'Allegheny West' 'Chateau' 'Duquesne Heights' 'Perry North'\n",
      " 'Perry South' 'Middle Hill' 'Troy Hill' 'Terrace Village' 'Upper Hill'\n",
      " 'North Oakland' 'Fineview' 'Strip District' 'Windgap' 'Crawford-Roberts'\n",
      " 'Larimer' 'Lincoln Place' 'Regent Square' 'Banksville' 'Swisshelm Park'\n",
      " 'Spring Garden' 'Spring Hill-City View' 'Westwood' 'Fairywood'\n",
      " 'Summer Hill' 'West End' 'Upper Lawrenceville' 'Ridgemont' 'Esplen'\n",
      " 'East Carnegie' 'South Shore' 'St. Clair' 'Mt. Oliver'\n",
      " 'Northview Heights' nan 'Glen Hazel' 'Hays']\n",
      "<class 'numpy.ndarray'>\n"
     ]
    }
   ],
   "source": [
    "print(trees['neighborhood'].unique())\n",
    "print(type(trees['neighborhood'].unique()))"
   ]
  },
  {
   "cell_type": "code",
   "execution_count": 40,
   "id": "prerequisite-syracuse",
   "metadata": {},
   "outputs": [
    {
     "name": "stdout",
     "output_type": "stream",
     "text": [
      "Homewood North       0\n",
      "Oakwood              0\n",
      "South Side Flats     0\n",
      "East Allegheny       0\n",
      "Highland Park        0\n",
      "                    ..\n",
      "Mt. Oliver           0\n",
      "Northview Heights    0\n",
      "NaN                  0\n",
      "Glen Hazel           0\n",
      "Hays                 0\n",
      "Length: 91, dtype: int64\n"
     ]
    }
   ],
   "source": [
    "neighborhood_points = {}\n",
    "for neighborhood in trees['neighborhood'].unique():\n",
    "    neighborhood_points[neighborhood] = 0\n",
    "    \n",
    "#print(neighborhood_points)\n",
    "\n",
    "#del neighborhood_points['NaN']\n",
    "      \n",
    "points = pd.Series(neighborhood_points)\n",
    "\n",
    "print(points)"
   ]
  },
  {
   "cell_type": "markdown",
   "id": "visible-harvest",
   "metadata": {},
   "source": [
    "Points holds the series\n",
    "\n",
    "NaN appears since not every tree has a neighborhood attributed to it\n",
    "\n",
    "At any point in the notebook you can just say point = pd.Series(neighborhood_points) to reset the points for easier test\n",
    "(Eventually clean up the notebook when looking for final answer)"
   ]
  },
  {
   "cell_type": "code",
   "execution_count": 28,
   "id": "acting-chemical",
   "metadata": {},
   "outputs": [
    {
     "name": "stdout",
     "output_type": "stream",
     "text": [
      "neighborhood\n",
      "Allegheny Center       171.791881\n",
      "Allegheny West         149.084659\n",
      "Allentown              120.451284\n",
      "Arlington               71.204809\n",
      "Arlington Heights      218.471558\n",
      "                          ...    \n",
      "Upper Lawrenceville    111.307346\n",
      "West End                82.564056\n",
      "West Oakland            76.122696\n",
      "Westwood               126.776044\n",
      "Windgap                135.477024\n",
      "Name: overall_benefits_dollar_value, Length: 90, dtype: float64\n",
      "\n",
      "neighborhood\n",
      "Troy Hill                 43.015155\n",
      "South Shore               45.616670\n",
      "Polish Hill               65.607477\n",
      "Central Lawrenceville     66.689438\n",
      "Strip District            69.347687\n",
      "                            ...    \n",
      "St. Clair                170.079518\n",
      "Allegheny Center         171.791881\n",
      "Hays                     181.397515\n",
      "Fairywood                207.420886\n",
      "Arlington Heights        218.471558\n",
      "Name: overall_benefits_dollar_value, Length: 90, dtype: float64\n",
      "\n",
      "Homewood North       0\n",
      "Oakwood              0\n",
      "South Side Flats     0\n",
      "East Allegheny       0\n",
      "Highland Park        0\n",
      "                    ..\n",
      "Mt. Oliver           0\n",
      "Northview Heights    0\n",
      "NaN                  0\n",
      "Glen Hazel           0\n",
      "Hays                 0\n",
      "Length: 91, dtype: int64\n"
     ]
    }
   ],
   "source": [
    "avgOverallBenefitsDollarValue = treesByNeighborhood['overall_benefits_dollar_value'].mean()\n",
    "print(avgOverallBenefitsDollarValue)\n",
    "print()\n",
    "sortedAvgOverallBenefitsDollarValue = avgOverallBenefitsDollarValue.sort_values()\n",
    "print(sortedAvgOverallBenefitsDollarValue)\n",
    "print()\n",
    "print(points)"
   ]
  },
  {
   "cell_type": "code",
   "execution_count": 42,
   "id": "accessory-calgary",
   "metadata": {},
   "outputs": [
    {
     "name": "stdout",
     "output_type": "stream",
     "text": [
      "Index(['Troy Hill', 'South Shore', 'Polish Hill', 'Central Lawrenceville',\n",
      "       'Strip District', 'Arlington', 'Bedford Dwellings', 'West Oakland',\n",
      "       'South Side Flats', 'Glen Hazel', 'Bluff', 'South Side Slopes',\n",
      "       'West End', 'East Liberty', 'Friendship', 'South Oakland',\n",
      "       'Terrace Village', 'Lower Lawrenceville', 'Central Northside',\n",
      "       'Duquesne Heights', 'Spring Garden', 'Central Business District',\n",
      "       'Crawford-Roberts', 'Middle Hill', 'East Allegheny', 'Mt. Oliver',\n",
      "       'Bloomfield', 'Morningside', 'Larimer', 'Chateau',\n",
      "       'Spring Hill-City View', 'Manchester', 'North Shore',\n",
      "       'Mount Washington', 'Garfield', 'Bon Air', 'Esplen',\n",
      "       'California-Kirkbride', 'Beltzhoover', 'Homewood West', 'Carrick',\n",
      "       'Beechview', 'Greenfield', 'Upper Lawrenceville', 'North Oakland',\n",
      "       'Ridgemont', 'Homewood South', 'Homewood North', 'Marshall-Shadeland',\n",
      "       'Hazelwood', 'Overbrook', 'Allentown', 'Knoxville', 'Brighton Heights',\n",
      "       'Sheraden', 'Upper Hill', 'Westwood', 'Shadyside', 'Central Oakland',\n",
      "       'Lincoln Place', 'Brookline', 'Banksville', 'Oakwood', 'Chartiers City',\n",
      "       'Elliott', 'Crafton Heights', 'Windgap', 'Summer Hill', 'Perry South',\n",
      "       'Point Breeze North', 'Fineview', 'Swisshelm Park', 'New Homestead',\n",
      "       'Squirrel Hill South', 'Regent Square', 'East Hills', 'Point Breeze',\n",
      "       'Perry North', 'Highland Park', 'Allegheny West',\n",
      "       'Lincoln-Lemington-Belmar', 'East Carnegie', 'Northview Heights',\n",
      "       'Squirrel Hill North', 'Stanton Heights', 'St. Clair',\n",
      "       'Allegheny Center', 'Hays', 'Fairywood', 'Arlington Heights'],\n",
      "      dtype='object', name='neighborhood')\n",
      "Troy Hill\n",
      "\n",
      "90\n"
     ]
    }
   ],
   "source": [
    "print(sortedAvgOverallBenefitsDollarValue.index)\n",
    "print(sortedAvgOverallBenefitsDollarValue.index[0])\n",
    "print()\n",
    "print(len(sortedAvgOverallBenefitsDollarValue))\n",
    "#print(points)"
   ]
  },
  {
   "cell_type": "code",
   "execution_count": 41,
   "id": "regulation-language",
   "metadata": {},
   "outputs": [
    {
     "name": "stdout",
     "output_type": "stream",
     "text": [
      "Homewood North       0\n",
      "Oakwood              0\n",
      "South Side Flats     0\n",
      "East Allegheny       0\n",
      "Highland Park        0\n",
      "                    ..\n",
      "Mt. Oliver           0\n",
      "Northview Heights    0\n",
      "NaN                  0\n",
      "Glen Hazel           0\n",
      "Hays                 0\n",
      "Length: 91, dtype: int64\n",
      "NaN                       0\n",
      "Troy Hill                 1\n",
      "South Shore               2\n",
      "Polish Hill               3\n",
      "Central Lawrenceville     4\n",
      "                         ..\n",
      "St. Clair                86\n",
      "Allegheny Center         87\n",
      "Hays                     88\n",
      "Fairywood                89\n",
      "Arlington Heights        90\n",
      "Length: 91, dtype: int64\n"
     ]
    }
   ],
   "source": [
    "print(points)\n",
    "\n",
    "for i in range(len(sortedAvgOverallBenefitsDollarValue)):\n",
    "    neighborhood = sortedAvgOverallBenefitsDollarValue.index[i]\n",
    "    points.loc[neighborhood] += (i+1) \n",
    "\n",
    "points = points.sort_values()\n",
    "print(points)\n",
    "   \n"
   ]
  },
  {
   "cell_type": "markdown",
   "id": "younger-annotation",
   "metadata": {},
   "source": [
    "According to this, the neighborhood that has the highest overall dollar value benefit from trees is Arlington Heights, followed by Fairywood and Hays, w/ Troy Hill coming in last."
   ]
  },
  {
   "cell_type": "markdown",
   "id": "minute-happiness",
   "metadata": {},
   "source": [
    "## The stuff below this cell is sort of random and just test stuff, probably not really worth looking at ## "
   ]
  },
  {
   "cell_type": "code",
   "execution_count": 9,
   "id": "amber-birthday",
   "metadata": {},
   "outputs": [
    {
     "name": "stdout",
     "output_type": "stream",
     "text": [
      "neighborhood\n",
      "Allegheny Center        0.794220\n",
      "Allegheny West         15.178378\n",
      "Allentown              22.378788\n",
      "Arlington              20.531915\n",
      "Arlington Heights      42.600000\n",
      "                         ...    \n",
      "Upper Lawrenceville    25.894578\n",
      "West End               22.084034\n",
      "West Oakland           16.957746\n",
      "Westwood               29.581673\n",
      "Windgap                29.417476\n",
      "Name: height, Length: 90, dtype: float64\n"
     ]
    }
   ],
   "source": [
    "avgHeight = trees.groupby('neighborhood')['height'].mean()\n",
    "print(avgHeight)"
   ]
  },
  {
   "cell_type": "code",
   "execution_count": 10,
   "id": "visible-threat",
   "metadata": {},
   "outputs": [
    {
     "name": "stdout",
     "output_type": "stream",
     "text": [
      "neighborhood\n",
      "Allegheny Center        0.794220\n",
      "Perry North             9.918803\n",
      "Troy Hill              11.350962\n",
      "Highland Park          12.028169\n",
      "Squirrel Hill South    13.806197\n",
      "                         ...    \n",
      "East Hills             37.212121\n",
      "St. Clair              38.500000\n",
      "Arlington Heights      42.600000\n",
      "Fairywood              42.964286\n",
      "Hays                   45.000000\n",
      "Name: height, Length: 90, dtype: float64\n"
     ]
    }
   ],
   "source": [
    "print(avgHeight.sort_values())\n",
    "sortedAvgHeight = avgHeight.sort_values()"
   ]
  },
  {
   "cell_type": "code",
   "execution_count": 11,
   "id": "apart-possibility",
   "metadata": {},
   "outputs": [
    {
     "name": "stdout",
     "output_type": "stream",
     "text": [
      "90\n"
     ]
    }
   ],
   "source": [
    "print(len(sortedAvgHeight))"
   ]
  },
  {
   "cell_type": "code",
   "execution_count": 12,
   "id": "identical-empty",
   "metadata": {},
   "outputs": [
    {
     "name": "stdout",
     "output_type": "stream",
     "text": [
      "neighborhood\n",
      "Allegheny Center       171.791881\n",
      "Allegheny West         149.084659\n",
      "Allentown              120.451284\n",
      "Arlington               71.204809\n",
      "Arlington Heights      218.471558\n",
      "                          ...    \n",
      "Upper Lawrenceville    111.307346\n",
      "West End                82.564056\n",
      "West Oakland            76.122696\n",
      "Westwood               126.776044\n",
      "Windgap                135.477024\n",
      "Name: overall_benefits_dollar_value, Length: 90, dtype: float64\n"
     ]
    }
   ],
   "source": [
    "avgOverallBenefitsDollarValue = treesByNeighborhood['overall_benefits_dollar_value'].mean()\n",
    "print(avgOverallBenefitsDollarValue)"
   ]
  },
  {
   "cell_type": "code",
   "execution_count": 13,
   "id": "round-trade",
   "metadata": {},
   "outputs": [
    {
     "name": "stdout",
     "output_type": "stream",
     "text": [
      "neighborhood\n",
      "Troy Hill                 43.015155\n",
      "South Shore               45.616670\n",
      "Polish Hill               65.607477\n",
      "Central Lawrenceville     66.689438\n",
      "Strip District            69.347687\n",
      "                            ...    \n",
      "St. Clair                170.079518\n",
      "Allegheny Center         171.791881\n",
      "Hays                     181.397515\n",
      "Fairywood                207.420886\n",
      "Arlington Heights        218.471558\n",
      "Name: overall_benefits_dollar_value, Length: 90, dtype: float64\n"
     ]
    }
   ],
   "source": [
    "sortedAvgOverallBenefitsDollarValue = avgOverallBenefitsDollarValue.sort_values()\n",
    "print(sortedAvgOverallBenefitsDollarValue)"
   ]
  },
  {
   "cell_type": "code",
   "execution_count": 14,
   "id": "homeless-newsletter",
   "metadata": {},
   "outputs": [
    {
     "name": "stdout",
     "output_type": "stream",
     "text": [
      "Homewood North       0\n",
      "Oakwood              0\n",
      "South Side Flats     0\n",
      "East Allegheny       0\n",
      "Highland Park        0\n",
      "                    ..\n",
      "Mt. Oliver           0\n",
      "Northview Heights    0\n",
      "NaN                  0\n",
      "Glen Hazel           0\n",
      "Hays                 0\n",
      "Length: 91, dtype: int64\n"
     ]
    }
   ],
   "source": [
    "#This is what is currently breaking\n",
    "\n",
    "#pointsAwarded = pd.Series()\n",
    "\n",
    "#maybe sort by Index (labels)\n",
    "\n",
    "#for i in range(len(sortedAvgOverallBenefitsDollarValue)):\n",
    "    #print(sortedAvgOverallBenefitsDollarValue[i])\n",
    "    #print(sortedAvgOverallBenefitsDollarValue.keys)\n",
    "    #print(points.get(sortedAvgOverallBenefitsDollarValue[i]))\n",
    "    #points.get(sortedAvgOverallBenefitsDollarValue[i]) = points.get(sortedAvgOverallBenefitsDollarValue[i]) + (i+1)\n",
    "    #print((sortedAvgOverallBenefitsDollarValue[i], i))\n",
    "\n",
    "print(points)"
   ]
  },
  {
   "cell_type": "code",
   "execution_count": 15,
   "id": "operational-grenada",
   "metadata": {},
   "outputs": [
    {
     "name": "stdout",
     "output_type": "stream",
     "text": [
      "<bound method Series.keys of neighborhood\n",
      "Troy Hill                 43.015155\n",
      "South Shore               45.616670\n",
      "Polish Hill               65.607477\n",
      "Central Lawrenceville     66.689438\n",
      "Strip District            69.347687\n",
      "                            ...    \n",
      "St. Clair                170.079518\n",
      "Allegheny Center         171.791881\n",
      "Hays                     181.397515\n",
      "Fairywood                207.420886\n",
      "Arlington Heights        218.471558\n",
      "Name: overall_benefits_dollar_value, Length: 90, dtype: float64>\n",
      "<class 'method'>\n"
     ]
    }
   ],
   "source": [
    "print(sortedAvgOverallBenefitsDollarValue.keys)\n",
    "print(type(sortedAvgOverallBenefitsDollarValue.keys))"
   ]
  },
  {
   "cell_type": "code",
   "execution_count": null,
   "id": "requested-athens",
   "metadata": {},
   "outputs": [],
   "source": []
  }
 ],
 "metadata": {
  "kernelspec": {
   "display_name": "Python 3",
   "language": "python",
   "name": "python3"
  },
  "language_info": {
   "codemirror_mode": {
    "name": "ipython",
    "version": 3
   },
   "file_extension": ".py",
   "mimetype": "text/x-python",
   "name": "python",
   "nbconvert_exporter": "python",
   "pygments_lexer": "ipython3",
   "version": "3.8.5"
  }
 },
 "nbformat": 4,
 "nbformat_minor": 5
}
