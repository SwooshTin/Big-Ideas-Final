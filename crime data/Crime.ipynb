{
 "cells": [
  {
   "cell_type": "markdown",
   "metadata": {},
   "source": [
    "Goal is to determine the best neighborhood by checking the crime reports and to find the neighborhood with the least amount of crime."
   ]
  },
  {
   "cell_type": "code",
   "execution_count": 5,
   "metadata": {},
   "outputs": [
    {
     "name": "stdout",
     "output_type": "stream",
     "text": [
      "<pandas.core.groupby.generic.DataFrameGroupBy object at 0x7f8395635290>\n",
      "Amount of total incidents for all neighborhoods: 233974\n",
      "Amount of neighborhoods: 98\n",
      "['North Shore' 'Upper Lawrenceville' 'Northview Heights'\n",
      " 'Golden Triangle/Civic Arena' 'South Side Flats' 'Elliott'\n",
      " 'Homewood North' 'South Side Slopes' 'Carrick' 'South Oakland' nan\n",
      " 'Bloomfield' 'Beechview' 'Bluff' 'Strip District' 'Mount Washington'\n",
      " 'East Carnegie' 'Crafton Heights' 'Marshall-Shadeland' 'East Liberty'\n",
      " 'East Allegheny' 'Friendship' 'Arlington' 'Central Northside'\n",
      " 'Spring Hill-City View' 'Brighton Heights' 'Westwood' 'East Hills'\n",
      " 'Brookline' 'South Shore' 'Lower Lawrenceville' 'Bedford Dwellings'\n",
      " 'Troy Hill-Herrs Island' 'Central Oakland' 'Garfield' 'West End'\n",
      " 'West Oakland' 'Central Lawrenceville' 'Lincoln-Lemington-Belmar'\n",
      " 'Sheraden' 'Beltzhoover' 'Outside City' 'Squirrel Hill South'\n",
      " 'North Oakland' 'Allentown' 'Perry North' 'Homewood South' 'Shadyside'\n",
      " 'Manchester' 'Squirrel Hill North' 'Regent Square' 'Homewood West'\n",
      " 'Allegheny Center' 'Highland Park' 'Middle Hill' 'Overbrook' 'Hazelwood'\n",
      " 'Greenfield' 'Morningside' 'Knoxville' 'Point Breeze' 'Duquesne Heights'\n",
      " 'Perry South' 'California-Kirkbride' 'Banksville' 'Point Breeze North'\n",
      " 'Bon Air' 'Polish Hill' 'Lincoln Place' 'Fineview' 'Spring Garden'\n",
      " 'Larimer' 'Esplen' 'Terrace Village' 'Allegheny West' 'Crawford-Roberts'\n",
      " 'Windgap' 'Stanton Heights' 'Glen Hazel' 'Upper Hill' 'Hays' 'Ridgemont'\n",
      " 'Oakwood' 'Outside State' 'Chateau' 'Swisshelm Park' 'Outside County'\n",
      " 'Fairywood' 'Chartiers City' 'Arlington Heights' 'St. Clair'\n",
      " 'Summer Hill' 'Mt. Oliver Neighborhood' 'New Homestead' 'Mt. Oliver Boro'\n",
      " 'Central Business District' 'Troy Hill' 'Central North Side'\n",
      " 'Mount Oliver']\n"
     ]
    }
   ],
   "source": [
    "import pandas as pd\n",
    "import numpy as np\n",
    "%matplotlib inline\n",
    "import matplotlib.pyplot as plt\n",
    "#holds the data in the variable crime\n",
    "crime = pd.read_csv(\"police.csv\")\n",
    "#sorts the data variable by the neighborhoods\n",
    "crimeByNeighborhoods = crime.groupby('INCIDENTNEIGHBORHOOD')\n",
    "#prints the grouping out\n",
    "print(crimeByNeighborhoods)\n",
    "#counts the amount of numbers from the coloumns\n",
    "crime_neighborhood = crime.count()\n",
    "#displays all the recorded crime in the neighborhoods\n",
    "print(\"Amount of total incidents for all neighborhoods:\",crime_neighborhood['INCIDENTNEIGHBORHOOD'])\n",
    "print(\"Amount of neighborhoods:\",crime['INCIDENTNEIGHBORHOOD'].nunique())\n",
    "print(crime['INCIDENTNEIGHBORHOOD'].unique())"
   ]
  },
  {
   "cell_type": "code",
   "execution_count": 23,
   "metadata": {},
   "outputs": [],
   "source": [
    "data = pd.read_csv(\"police.csv\")\n",
    "info = pd.DataFrame(data, columns = ['INCIDENTNEIGHBORHOOD', 'INCIDENTTRACT'])"
   ]
  },
  {
   "cell_type": "code",
   "execution_count": 24,
   "metadata": {},
   "outputs": [
    {
     "name": "stdout",
     "output_type": "stream",
     "text": [
      "                      INCIDENTNEIGHBORHOOD\n",
      "INCIDENTTRACT                             \n",
      "0.0                             Bloomfield\n",
      "101.0                              Windgap\n",
      "102.0                              Windgap\n",
      "103.0                                Bluff\n",
      "201.0          Golden Triangle/Civic Arena\n",
      "...                                    ...\n",
      "9800.0                                 NaN\n",
      "9801.0                                 NaN\n",
      "9806.0                                 NaN\n",
      "9812.0                                 NaN\n",
      "9822.0                                 NaN\n",
      "\n",
      "[262 rows x 1 columns]\n"
     ]
    }
   ],
   "source": [
    "groupby_max = info.groupby(['INCIDENTTRACT']).max()\n",
    "print (str(groupby_max))"
   ]
  },
  {
   "cell_type": "code",
   "execution_count": 27,
   "metadata": {},
   "outputs": [
    {
     "name": "stdout",
     "output_type": "stream",
     "text": [
      "                      INCIDENTNEIGHBORHOOD\n",
      "INCIDENTTRACT                             \n",
      "0.0                             Bloomfield\n",
      "101.0                              Windgap\n",
      "102.0                              Windgap\n",
      "103.0                                Bluff\n",
      "201.0          Golden Triangle/Civic Arena\n",
      "202.0                             Westwood\n",
      "203.0                       Strip District\n",
      "302.0                         West Oakland\n",
      "304.0                             Westwood\n",
      "305.0                     Crawford-Roberts\n",
      "401.0                             Westwood\n",
      "402.0                         West Oakland\n",
      "403.0                        North Oakland\n",
      "404.0                        North Oakland\n",
      "405.0                      Central Oakland\n"
     ]
    }
   ],
   "source": [
    "best = groupby_max.head(15)\n",
    "print(best)"
   ]
  },
  {
   "cell_type": "code",
   "execution_count": 32,
   "metadata": {},
   "outputs": [
    {
     "name": "stdout",
     "output_type": "stream",
     "text": [
      "                                            PK           CCR  HIERARCHY  \\\n",
      "INCIDENTNEIGHBORHOOD INCIDENTTRACT                                        \n",
      "Allegheny Center     101.0             8453426  2.129798e+07         26   \n",
      "                     102.0             8460888  2.058719e+07        127   \n",
      "                     202.0            16781444  4.059972e+07        176   \n",
      "                     302.0             2106502  5.115320e+06          6   \n",
      "                     304.0             2106182  5.115175e+06          6   \n",
      "...                                        ...           ...        ...   \n",
      "Windgap              2807.0         1555369255  8.971474e+09      20846   \n",
      "                     2809.0            2108958  5.125678e+06          5   \n",
      "                     2810.0            2099664  5.076986e+06         10   \n",
      "                     2903.0            8402625  2.036159e+07        222   \n",
      "                     3205.0            2086178  5.029269e+06         24   \n",
      "\n",
      "                                    COUNCIL_DISTRICT  PUBLIC_WORKS_DIVISION  \\\n",
      "INCIDENTNEIGHBORHOOD INCIDENTTRACT                                            \n",
      "Allegheny Center     101.0                      22.0                   22.0   \n",
      "                     102.0                      18.0                   12.0   \n",
      "                     202.0                      56.0                   48.0   \n",
      "                     302.0                       0.0                    0.0   \n",
      "                     304.0                       6.0                    3.0   \n",
      "...                                              ...                    ...   \n",
      "Windgap              2807.0                    960.0                 2320.0   \n",
      "                     2809.0                      2.0                    5.0   \n",
      "                     2810.0                      2.0                    5.0   \n",
      "                     2903.0                     16.0                   16.0   \n",
      "                     3205.0                      4.0                    4.0   \n",
      "\n",
      "                                               X             Y  \n",
      "INCIDENTNEIGHBORHOOD INCIDENTTRACT                              \n",
      "Allegheny Center     101.0           -319.988908    161.719298  \n",
      "                     102.0           -239.952935    121.312766  \n",
      "                     202.0           -639.893434    323.596505  \n",
      "                     302.0              0.000000      0.000000  \n",
      "                     304.0            -79.983924     40.439890  \n",
      "...                                          ...           ...  \n",
      "Windgap              2807.0        -38514.532602  19458.996681  \n",
      "                     2809.0           -80.060432     40.448437  \n",
      "                     2810.0           -80.055933     40.437777  \n",
      "                     2903.0          -319.925160    161.538144  \n",
      "                     3205.0           -79.995745     40.380420  \n",
      "\n",
      "[4227 rows x 7 columns]\n"
     ]
    }
   ],
   "source": [
    "new_df = data.groupby(['INCIDENTNEIGHBORHOOD','INCIDENTTRACT']).sum()\n",
    "print(new_df)"
   ]
  },
  {
   "cell_type": "code",
   "execution_count": 35,
   "metadata": {},
   "outputs": [
    {
     "name": "stdout",
     "output_type": "stream",
     "text": [
      "INCIDENTNEIGHBORHOOD\n",
      "Allegheny Center       82\n",
      "Allegheny West         73\n",
      "Allentown              90\n",
      "Arlington              81\n",
      "Arlington Heights      40\n",
      "                       ..\n",
      "Upper Lawrenceville     1\n",
      "West End                1\n",
      "West Oakland           63\n",
      "Westwood               77\n",
      "Windgap                48\n",
      "Name: INCIDENTTRACT, Length: 98, dtype: int64\n"
     ]
    }
   ],
   "source": [
    "df = data.groupby('INCIDENTNEIGHBORHOOD')['INCIDENTTRACT'].nunique()\n",
    "print(df)"
   ]
  },
  {
   "cell_type": "code",
   "execution_count": null,
   "metadata": {},
   "outputs": [],
   "source": []
  }
 ],
 "metadata": {
  "kernelspec": {
   "display_name": "Python 3",
   "language": "python",
   "name": "python3"
  },
  "language_info": {
   "codemirror_mode": {
    "name": "ipython",
    "version": 3
   },
   "file_extension": ".py",
   "mimetype": "text/x-python",
   "name": "python",
   "nbconvert_exporter": "python",
   "pygments_lexer": "ipython3",
   "version": "3.7.8"
  }
 },
 "nbformat": 4,
 "nbformat_minor": 4
}
