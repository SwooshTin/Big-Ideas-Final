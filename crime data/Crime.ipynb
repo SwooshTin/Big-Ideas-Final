{
 "cells": [
  {
   "cell_type": "markdown",
   "metadata": {},
   "source": [
    "Goal is to determine the best neighborhood by checking the crime reports and to find the neighborhood with the least amount of crime."
   ]
  },
  {
   "cell_type": "code",
   "execution_count": 17,
   "metadata": {},
   "outputs": [
    {
     "name": "stdout",
     "output_type": "stream",
     "text": [
      "<pandas.core.groupby.generic.DataFrameGroupBy object at 0x7f02edf89350>\n",
      "Amount of total incidents for all neighborhoods: 233974\n",
      "Amount of neighborhoods: 98\n",
      "['North Shore' 'Upper Lawrenceville' 'Northview Heights'\n",
      " 'Golden Triangle/Civic Arena' 'South Side Flats' 'Elliott'\n",
      " 'Homewood North' 'South Side Slopes' 'Carrick' 'South Oakland' nan\n",
      " 'Bloomfield' 'Beechview' 'Bluff' 'Strip District' 'Mount Washington'\n",
      " 'East Carnegie' 'Crafton Heights' 'Marshall-Shadeland' 'East Liberty'\n",
      " 'East Allegheny' 'Friendship' 'Arlington' 'Central Northside'\n",
      " 'Spring Hill-City View' 'Brighton Heights' 'Westwood' 'East Hills'\n",
      " 'Brookline' 'South Shore' 'Lower Lawrenceville' 'Bedford Dwellings'\n",
      " 'Troy Hill-Herrs Island' 'Central Oakland' 'Garfield' 'West End'\n",
      " 'West Oakland' 'Central Lawrenceville' 'Lincoln-Lemington-Belmar'\n",
      " 'Sheraden' 'Beltzhoover' 'Outside City' 'Squirrel Hill South'\n",
      " 'North Oakland' 'Allentown' 'Perry North' 'Homewood South' 'Shadyside'\n",
      " 'Manchester' 'Squirrel Hill North' 'Regent Square' 'Homewood West'\n",
      " 'Allegheny Center' 'Highland Park' 'Middle Hill' 'Overbrook' 'Hazelwood'\n",
      " 'Greenfield' 'Morningside' 'Knoxville' 'Point Breeze' 'Duquesne Heights'\n",
      " 'Perry South' 'California-Kirkbride' 'Banksville' 'Point Breeze North'\n",
      " 'Bon Air' 'Polish Hill' 'Lincoln Place' 'Fineview' 'Spring Garden'\n",
      " 'Larimer' 'Esplen' 'Terrace Village' 'Allegheny West' 'Crawford-Roberts'\n",
      " 'Windgap' 'Stanton Heights' 'Glen Hazel' 'Upper Hill' 'Hays' 'Ridgemont'\n",
      " 'Oakwood' 'Outside State' 'Chateau' 'Swisshelm Park' 'Outside County'\n",
      " 'Fairywood' 'Chartiers City' 'Arlington Heights' 'St. Clair'\n",
      " 'Summer Hill' 'Mt. Oliver Neighborhood' 'New Homestead' 'Mt. Oliver Boro'\n",
      " 'Central Business District' 'Troy Hill' 'Central North Side'\n",
      " 'Mount Oliver']\n"
     ]
    }
   ],
   "source": [
    "import pandas as pd\n",
    "import geopandas\n",
    "import numpy as np\n",
    "#holds the data in the variable crime\n",
    "crime = pd.read_csv(\"police.csv\")\n",
    "#sorts the data variable by the neighborhoods\n",
    "crimeByNeighborhoods = crime.groupby('INCIDENTNEIGHBORHOOD')\n",
    "#prints the grouping out\n",
    "print(crimeByNeighborhoods)\n",
    "#counts the amount of numbers from the coloumns\n",
    "crime_neighborhood = crime.count()\n",
    "#displays all the recorded crime in\n",
    "print(\"Amount of total incidents for all neighborhoods:\",crime_neighborhood['INCIDENTNEIGHBORHOOD'])\n",
    "print(\"Amount of neighborhoods:\",crime['INCIDENTNEIGHBORHOOD'].nunique())\n",
    "print(crime['INCIDENTNEIGHBORHOOD'].unique())"
   ]
  },
  {
   "cell_type": "code",
   "execution_count": null,
   "metadata": {},
   "outputs": [],
   "source": []
  }
 ],
 "metadata": {
  "kernelspec": {
   "display_name": "Python 3",
   "language": "python",
   "name": "python3"
  },
  "language_info": {
   "codemirror_mode": {
    "name": "ipython",
    "version": 3
   },
   "file_extension": ".py",
   "mimetype": "text/x-python",
   "name": "python",
   "nbconvert_exporter": "python",
   "pygments_lexer": "ipython3",
   "version": "3.7.8"
  }
 },
 "nbformat": 4,
 "nbformat_minor": 4
}
