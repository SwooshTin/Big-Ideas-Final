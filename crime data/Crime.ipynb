{
 "cells": [
  {
   "cell_type": "markdown",
   "metadata": {},
   "source": [
    "Goal is to determine the best neighborhood by checking the crime reports and to find the neighborhood with the least amount of crime."
   ]
  },
  {
   "cell_type": "code",
   "execution_count": 2,
   "metadata": {},
   "outputs": [
    {
     "name": "stdout",
     "output_type": "stream",
     "text": [
      "<pandas.core.groupby.generic.DataFrameGroupBy object at 0x7fcc7e558150>\n",
      "Amount of total incidents for all neighborhoods: 233974\n",
      "Amount of neighborhoods: 98\n",
      "['North Shore' 'Upper Lawrenceville' 'Northview Heights'\n",
      " 'Golden Triangle/Civic Arena' 'South Side Flats' 'Elliott'\n",
      " 'Homewood North' 'South Side Slopes' 'Carrick' 'South Oakland' nan\n",
      " 'Bloomfield' 'Beechview' 'Bluff' 'Strip District' 'Mount Washington'\n",
      " 'East Carnegie' 'Crafton Heights' 'Marshall-Shadeland' 'East Liberty'\n",
      " 'East Allegheny' 'Friendship' 'Arlington' 'Central Northside'\n",
      " 'Spring Hill-City View' 'Brighton Heights' 'Westwood' 'East Hills'\n",
      " 'Brookline' 'South Shore' 'Lower Lawrenceville' 'Bedford Dwellings'\n",
      " 'Troy Hill-Herrs Island' 'Central Oakland' 'Garfield' 'West End'\n",
      " 'West Oakland' 'Central Lawrenceville' 'Lincoln-Lemington-Belmar'\n",
      " 'Sheraden' 'Beltzhoover' 'Outside City' 'Squirrel Hill South'\n",
      " 'North Oakland' 'Allentown' 'Perry North' 'Homewood South' 'Shadyside'\n",
      " 'Manchester' 'Squirrel Hill North' 'Regent Square' 'Homewood West'\n",
      " 'Allegheny Center' 'Highland Park' 'Middle Hill' 'Overbrook' 'Hazelwood'\n",
      " 'Greenfield' 'Morningside' 'Knoxville' 'Point Breeze' 'Duquesne Heights'\n",
      " 'Perry South' 'California-Kirkbride' 'Banksville' 'Point Breeze North'\n",
      " 'Bon Air' 'Polish Hill' 'Lincoln Place' 'Fineview' 'Spring Garden'\n",
      " 'Larimer' 'Esplen' 'Terrace Village' 'Allegheny West' 'Crawford-Roberts'\n",
      " 'Windgap' 'Stanton Heights' 'Glen Hazel' 'Upper Hill' 'Hays' 'Ridgemont'\n",
      " 'Oakwood' 'Outside State' 'Chateau' 'Swisshelm Park' 'Outside County'\n",
      " 'Fairywood' 'Chartiers City' 'Arlington Heights' 'St. Clair'\n",
      " 'Summer Hill' 'Mt. Oliver Neighborhood' 'New Homestead' 'Mt. Oliver Boro'\n",
      " 'Central Business District' 'Troy Hill' 'Central North Side'\n",
      " 'Mount Oliver']\n"
     ]
    }
   ],
   "source": [
    "import pandas as pd\n",
    "import numpy as np\n",
    "%matplotlib inline\n",
    "import matplotlib.pyplot as plt\n",
    "#holds the data in the variable crime\n",
    "crime = pd.read_csv(\"police.csv\")\n",
    "#sorts the data variable by the neighborhoods\n",
    "crimeByNeighborhoods = crime.groupby('INCIDENTNEIGHBORHOOD')\n",
    "#prints the grouping out\n",
    "print(crimeByNeighborhoods)\n",
    "#counts the amount of numbers from the coloumns\n",
    "crime_neighborhood = crime.count()\n",
    "#displays all the recorded crime in the neighborhoods\n",
    "print(\"Amount of total incidents for all neighborhoods:\",crime_neighborhood['INCIDENTNEIGHBORHOOD'])\n",
    "print(\"Amount of neighborhoods:\",crime['INCIDENTNEIGHBORHOOD'].nunique())\n",
    "print(crime['INCIDENTNEIGHBORHOOD'].unique())"
   ]
  },
  {
   "cell_type": "code",
   "execution_count": 3,
   "metadata": {},
   "outputs": [],
   "source": [
    "data = pd.read_csv(\"police.csv\")"
   ]
  },
  {
   "cell_type": "code",
   "execution_count": 4,
   "metadata": {},
   "outputs": [
    {
     "name": "stdout",
     "output_type": "stream",
     "text": [
      "INCIDENTNEIGHBORHOOD\n",
      "Allegheny Center       82\n",
      "Allegheny West         73\n",
      "Allentown              90\n",
      "Arlington              81\n",
      "Arlington Heights      40\n",
      "                       ..\n",
      "Upper Lawrenceville     1\n",
      "West End                1\n",
      "West Oakland           63\n",
      "Westwood               77\n",
      "Windgap                48\n",
      "Name: INCIDENTTRACT, Length: 98, dtype: int64\n"
     ]
    }
   ],
   "source": [
    "#lists the amount of times incidents were reported, not exact numbers just how many rows each have\n",
    "df = data.groupby('INCIDENTNEIGHBORHOOD')['INCIDENTTRACT'].nunique()\n",
    "print(df)"
   ]
  },
  {
   "cell_type": "code",
   "execution_count": 5,
   "metadata": {},
   "outputs": [
    {
     "name": "stdout",
     "output_type": "stream",
     "text": [
      "Chartiers City             222\n",
      "Outside State              218\n",
      "Outside County             154\n",
      "Mt. Oliver Neighborhood    117\n",
      "Mt. Oliver Boro             72\n",
      "Name: INCIDENTNEIGHBORHOOD, dtype: int64\n"
     ]
    }
   ],
   "source": [
    "#lists the lowest neighborhoods crime rate incidents reported\n",
    "plot=crime['INCIDENTNEIGHBORHOOD'].value_counts().tail()\n",
    "print(plot)"
   ]
  },
  {
   "cell_type": "code",
   "execution_count": 6,
   "metadata": {},
   "outputs": [
    {
     "data": {
      "text/plain": [
       "<AxesSubplot:>"
      ]
     },
     "execution_count": 6,
     "metadata": {},
     "output_type": "execute_result"
    },
    {
     "data": {
      "image/png": "[encoded data removed]",
      "text/plain": [
       "<Figure size 432x288 with 1 Axes>"
      ]
     },
     "metadata": {
      "needs_background": "light"
     },
     "output_type": "display_data"
    }
   ],
   "source": [
    "plot.plot.bar()"
   ]
  },
  {
   "cell_type": "code",
   "execution_count": null,
   "metadata": {},
   "outputs": [],
   "source": []
  }
 ],
 "metadata": {
  "kernelspec": {
   "display_name": "Python 3",
   "language": "python",
   "name": "python3"
  },
  "language_info": {
   "codemirror_mode": {
    "name": "ipython",
    "version": 3
   },
   "file_extension": ".py",
   "mimetype": "text/x-python",
   "name": "python",
   "nbconvert_exporter": "python",
   "pygments_lexer": "ipython3",
   "version": "3.7.10"
  }
 },
 "nbformat": 4,
 "nbformat_minor": 4
}
